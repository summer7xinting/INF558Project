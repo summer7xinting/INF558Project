{
 "cells": [
  {
   "cell_type": "code",
   "execution_count": 1,
   "metadata": {},
   "outputs": [],
   "source": [
    "# set of monster companies\n",
    "import pandas as pd\n",
    "\n",
    "DSdf = pd.read_csv(\"monster_ds.csv\")\n",
    "SEdf = pd.read_csv(\"monster_sde.csv\")\n",
    "\n",
    "DSset = set(DSdf['Company Name'])\n",
    "SEset = set(SEdf['Company Name'])\n",
    "company = DSset.union(SEset)\n",
    "\n",
    "monsterCompany = set([com.lower() for com in company])"
   ]
  },
  {
   "cell_type": "code",
   "execution_count": 2,
   "metadata": {},
   "outputs": [],
   "source": [
    "# glassdoor companies\n",
    "f = open(\"companyNameGlassdoorRev.txt\")\n",
    "glassdoorCompany = [com.strip('\\n') for com in f.readlines()]\n",
    "company = monsterCompany.union(glassdoorCompany)\n",
    "f.close()"
   ]
  },
  {
   "cell_type": "code",
   "execution_count": 3,
   "metadata": {},
   "outputs": [],
   "source": [
    "# total companies\n",
    "f = open(\"companyName.txt\", mode = \"w+\", encoding='utf8')\n",
    "for com in sorted(company):\n",
    "    f.write(com)\n",
    "    f.write(\"\\n\")\n",
    "f.close()"
   ]
  },
  {
   "cell_type": "code",
   "execution_count": 4,
   "metadata": {},
   "outputs": [
    {
     "data": {
      "text/plain": [
       "{'a-line staffing solutions',\n",
       " 'allyis',\n",
       " 'enroute computer solutions',\n",
       " 'frederick national laboratory',\n",
       " 'intuitive surgical',\n",
       " 'iqvia',\n",
       " 'job juncture',\n",
       " 'juniper networks',\n",
       " 'luxoft usa inc',\n",
       " 'osi engineering',\n",
       " 'peraton',\n",
       " 'peterson technology partners',\n",
       " 'southwest research institute'}"
      ]
     },
     "execution_count": 4,
     "metadata": {},
     "output_type": "execute_result"
    }
   ],
   "source": [
    "# common companies btw glassdoor and monster\n",
    "monsterCompany.intersection(glassdoorCompany)"
   ]
  },
  {
   "cell_type": "code",
   "execution_count": 5,
   "metadata": {},
   "outputs": [
    {
     "data": {
      "text/plain": [
       "13"
      ]
     },
     "execution_count": 5,
     "metadata": {},
     "output_type": "execute_result"
    }
   ],
   "source": [
    "len(monsterCompany.intersection(glassdoorCompany))"
   ]
  },
  {
   "cell_type": "code",
   "execution_count": 6,
   "metadata": {},
   "outputs": [
    {
     "data": {
      "text/plain": [
       "430"
      ]
     },
     "execution_count": 6,
     "metadata": {},
     "output_type": "execute_result"
    }
   ],
   "source": [
    "len(monsterCompany)"
   ]
  },
  {
   "cell_type": "code",
   "execution_count": 7,
   "metadata": {},
   "outputs": [
    {
     "data": {
      "text/plain": [
       "796"
      ]
     },
     "execution_count": 7,
     "metadata": {},
     "output_type": "execute_result"
    }
   ],
   "source": [
    "len(glassdoorCompany)"
   ]
  },
  {
   "cell_type": "code",
   "execution_count": null,
   "metadata": {},
   "outputs": [],
   "source": []
  }
 ],
 "metadata": {
  "kernelspec": {
   "display_name": "Python 3",
   "language": "python",
   "name": "python3"
  },
  "language_info": {
   "codemirror_mode": {
    "name": "ipython",
    "version": 3
   },
   "file_extension": ".py",
   "mimetype": "text/x-python",
   "name": "python",
   "nbconvert_exporter": "python",
   "pygments_lexer": "ipython3",
   "version": "3.7.2"
  }
 },
 "nbformat": 4,
 "nbformat_minor": 2
}
