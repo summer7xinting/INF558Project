{
 "cells": [
  {
   "cell_type": "code",
   "execution_count": 1,
   "metadata": {},
   "outputs": [],
   "source": [
    "import pandas as pd\n",
    "import rltk\n",
    "import re\n",
    "\n",
    "wikicom = pd.read_csv(\"wikidata.csv\", encoding='utf8')\n",
    "jobscom = pd.read_csv(\"merged_jobs.csv\", encoding='utf8')"
   ]
  },
  {
   "cell_type": "code",
   "execution_count": 2,
   "metadata": {},
   "outputs": [],
   "source": [
    "# remove \"(United States)\" from the wiki company name\n",
    "# lowercase\n",
    "wikiList = [company.split(\" (United States)\")[0].lower() for company in wikicom['URILabel']]\n",
    "jobsList = [company.lower() for company in jobscom['Company Name']]"
   ]
  },
  {
   "cell_type": "code",
   "execution_count": 3,
   "metadata": {},
   "outputs": [],
   "source": [
    "wikicom['URILabel'] = wikiList\n",
    "jobscom['Company Name'] = jobsList"
   ]
  },
  {
   "cell_type": "code",
   "execution_count": 4,
   "metadata": {},
   "outputs": [
    {
     "name": "stderr",
     "output_type": "stream",
     "text": [
      "C:\\Users\\Myunghee\\Anaconda3\\lib\\site-packages\\ipykernel_launcher.py:3: SettingWithCopyWarning: \n",
      "A value is trying to be set on a copy of a slice from a DataFrame\n",
      "\n",
      "See the caveats in the documentation: http://pandas.pydata.org/pandas-docs/stable/indexing.html#indexing-view-versus-copy\n",
      "  This is separate from the ipykernel package so we can avoid doing imports until\n"
     ]
    }
   ],
   "source": [
    "# remove duplicates\n",
    "wikidf = wikicom[['URILabel', 'URI', 'comURI']]\n",
    "wikidf.drop_duplicates(keep='first',inplace=True) "
   ]
  },
  {
   "cell_type": "code",
   "execution_count": 5,
   "metadata": {},
   "outputs": [
    {
     "data": {
      "text/plain": [
       "19351"
      ]
     },
     "execution_count": 5,
     "metadata": {},
     "output_type": "execute_result"
    }
   ],
   "source": [
    "len(wikidf)"
   ]
  },
  {
   "cell_type": "code",
   "execution_count": 6,
   "metadata": {},
   "outputs": [
    {
     "data": {
      "text/plain": [
       "Index(['Company Name', 'Competitors', 'Founded', 'Headquarters', 'Industry',\n",
       "       'Job Description', 'Job Title', 'Location', 'Rating', 'Revenue',\n",
       "       'Salary Estimate', 'Sector', 'Size', 'Type of ownership', 'timestamp',\n",
       "       'SE/DS', 'Website', 'Company Description'],\n",
       "      dtype='object')"
      ]
     },
     "execution_count": 6,
     "metadata": {},
     "output_type": "execute_result"
    }
   ],
   "source": [
    "jobscom.columns"
   ]
  },
  {
   "cell_type": "code",
   "execution_count": 7,
   "metadata": {},
   "outputs": [
    {
     "name": "stderr",
     "output_type": "stream",
     "text": [
      "C:\\Users\\Myunghee\\Anaconda3\\lib\\site-packages\\ipykernel_launcher.py:3: SettingWithCopyWarning: \n",
      "A value is trying to be set on a copy of a slice from a DataFrame\n",
      "\n",
      "See the caveats in the documentation: http://pandas.pydata.org/pandas-docs/stable/indexing.html#indexing-view-versus-copy\n",
      "  This is separate from the ipykernel package so we can avoid doing imports until\n"
     ]
    }
   ],
   "source": [
    "# remove duplicates\n",
    "companydf = jobscom[['Company Name', 'Founded', 'Headquarters', 'Website']]\n",
    "companydf.drop_duplicates(keep='first',inplace=True) "
   ]
  },
  {
   "cell_type": "code",
   "execution_count": 8,
   "metadata": {},
   "outputs": [
    {
     "data": {
      "text/plain": [
       "1144"
      ]
     },
     "execution_count": 8,
     "metadata": {},
     "output_type": "execute_result"
    }
   ],
   "source": [
    "len(companydf)"
   ]
  },
  {
   "cell_type": "code",
   "execution_count": 9,
   "metadata": {},
   "outputs": [],
   "source": [
    "# sampling 100 company records (0.1%) from jobs sites \n",
    "companySample = companydf.sample(n=100)\n",
    "companySample.sort_values(by= 'Company Name', axis=0, ascending=True, inplace=True, kind='quicksort', na_position='last')"
   ]
  },
  {
   "cell_type": "code",
   "execution_count": 10,
   "metadata": {
    "scrolled": false
   },
   "outputs": [
    {
     "data": {
      "text/html": [
       "<div>\n",
       "<style scoped>\n",
       "    .dataframe tbody tr th:only-of-type {\n",
       "        vertical-align: middle;\n",
       "    }\n",
       "\n",
       "    .dataframe tbody tr th {\n",
       "        vertical-align: top;\n",
       "    }\n",
       "\n",
       "    .dataframe thead th {\n",
       "        text-align: right;\n",
       "    }\n",
       "</style>\n",
       "<table border=\"1\" class=\"dataframe\">\n",
       "  <thead>\n",
       "    <tr style=\"text-align: right;\">\n",
       "      <th></th>\n",
       "      <th>URILabel</th>\n",
       "      <th>URI</th>\n",
       "      <th>comURI</th>\n",
       "    </tr>\n",
       "  </thead>\n",
       "  <tbody>\n",
       "    <tr>\n",
       "      <th>0</th>\n",
       "      <td>1-800 contacts</td>\n",
       "      <td>http://www.wikidata.org/entity/Q4545758</td>\n",
       "      <td>http://www.contacts.com</td>\n",
       "    </tr>\n",
       "    <tr>\n",
       "      <th>1</th>\n",
       "      <td>1-800-free-411</td>\n",
       "      <td>http://www.wikidata.org/entity/Q4545749</td>\n",
       "      <td>http://www.marchex.com/</td>\n",
       "    </tr>\n",
       "    <tr>\n",
       "      <th>2</th>\n",
       "      <td>1-800-get-thin</td>\n",
       "      <td>http://www.wikidata.org/entity/Q4545753</td>\n",
       "      <td>NaN</td>\n",
       "    </tr>\n",
       "    <tr>\n",
       "      <th>3</th>\n",
       "      <td>1000memories</td>\n",
       "      <td>http://www.wikidata.org/entity/Q4546003</td>\n",
       "      <td>http://1000memories.com/</td>\n",
       "    </tr>\n",
       "    <tr>\n",
       "      <th>4</th>\n",
       "      <td>10q reports</td>\n",
       "      <td>http://www.wikidata.org/entity/Q43374781</td>\n",
       "      <td>https://www.10qreports.com</td>\n",
       "    </tr>\n",
       "  </tbody>\n",
       "</table>\n",
       "</div>"
      ],
      "text/plain": [
       "         URILabel                                       URI  \\\n",
       "0  1-800 contacts   http://www.wikidata.org/entity/Q4545758   \n",
       "1  1-800-free-411   http://www.wikidata.org/entity/Q4545749   \n",
       "2  1-800-get-thin   http://www.wikidata.org/entity/Q4545753   \n",
       "3    1000memories   http://www.wikidata.org/entity/Q4546003   \n",
       "4     10q reports  http://www.wikidata.org/entity/Q43374781   \n",
       "\n",
       "                       comURI  \n",
       "0     http://www.contacts.com  \n",
       "1     http://www.marchex.com/  \n",
       "2                         NaN  \n",
       "3    http://1000memories.com/  \n",
       "4  https://www.10qreports.com  "
      ]
     },
     "execution_count": 10,
     "metadata": {},
     "output_type": "execute_result"
    }
   ],
   "source": [
    "wikidf[:5]"
   ]
  },
  {
   "cell_type": "code",
   "execution_count": 11,
   "metadata": {
    "scrolled": true
   },
   "outputs": [
    {
     "data": {
      "text/html": [
       "<div>\n",
       "<style scoped>\n",
       "    .dataframe tbody tr th:only-of-type {\n",
       "        vertical-align: middle;\n",
       "    }\n",
       "\n",
       "    .dataframe tbody tr th {\n",
       "        vertical-align: top;\n",
       "    }\n",
       "\n",
       "    .dataframe thead th {\n",
       "        text-align: right;\n",
       "    }\n",
       "</style>\n",
       "<table border=\"1\" class=\"dataframe\">\n",
       "  <thead>\n",
       "    <tr style=\"text-align: right;\">\n",
       "      <th></th>\n",
       "      <th>Company Name</th>\n",
       "      <th>Founded</th>\n",
       "      <th>Headquarters</th>\n",
       "      <th>Website</th>\n",
       "    </tr>\n",
       "  </thead>\n",
       "  <tbody>\n",
       "    <tr>\n",
       "      <th>9</th>\n",
       "      <td>abb</td>\n",
       "      <td>1891.0</td>\n",
       "      <td>Zurich, Switzerland</td>\n",
       "      <td>http://www.abb.com/</td>\n",
       "    </tr>\n",
       "    <tr>\n",
       "      <th>13</th>\n",
       "      <td>act consulting</td>\n",
       "      <td>-1.0</td>\n",
       "      <td>Owatonna, MN</td>\n",
       "      <td>-1</td>\n",
       "    </tr>\n",
       "    <tr>\n",
       "      <th>27</th>\n",
       "      <td>adyen n.v.</td>\n",
       "      <td>-1.0</td>\n",
       "      <td>-1</td>\n",
       "      <td>-1</td>\n",
       "    </tr>\n",
       "    <tr>\n",
       "      <th>29</th>\n",
       "      <td>agc biologics</td>\n",
       "      <td>-1.0</td>\n",
       "      <td>Bothell, WA</td>\n",
       "      <td>-1</td>\n",
       "    </tr>\n",
       "    <tr>\n",
       "      <th>1347</th>\n",
       "      <td>agema technology, inc</td>\n",
       "      <td>NaN</td>\n",
       "      <td>NaN</td>\n",
       "      <td>NaN</td>\n",
       "    </tr>\n",
       "  </tbody>\n",
       "</table>\n",
       "</div>"
      ],
      "text/plain": [
       "               Company Name  Founded         Headquarters              Website\n",
       "9                       abb   1891.0  Zurich, Switzerland  http://www.abb.com/\n",
       "13           act consulting     -1.0         Owatonna, MN                   -1\n",
       "27               adyen n.v.     -1.0                   -1                   -1\n",
       "29            agc biologics     -1.0          Bothell, WA                   -1\n",
       "1347  agema technology, inc      NaN                  NaN                  NaN"
      ]
     },
     "execution_count": 11,
     "metadata": {},
     "output_type": "execute_result"
    }
   ],
   "source": [
    "companySample[:5]"
   ]
  },
  {
   "cell_type": "code",
   "execution_count": 12,
   "metadata": {},
   "outputs": [],
   "source": [
    "wikidf.to_csv(r'wikidf.csv', index = True, header=True)\n",
    "companySample.to_csv(r'companySample.csv', index = True, header=True)\n",
    "\n",
    "# make ground truth file manually with above 2 files"
   ]
  },
  {
   "cell_type": "code",
   "execution_count": 13,
   "metadata": {},
   "outputs": [],
   "source": [
    "import json\n",
    "groundTruth = pd.read_csv(\"groundTruth.csv\", encoding='utf8')\n",
    "groundTruth.fillna(0, inplace =True)\n",
    "with open('company-wikiurl.json') as f:\n",
    "    prediction = json.load(f)"
   ]
  },
  {
   "cell_type": "code",
   "execution_count": 14,
   "metadata": {
    "scrolled": true
   },
   "outputs": [],
   "source": [
    "y_ground = list()\n",
    "y_pred = list()\n",
    "for i in range(len(groundTruth)):\n",
    "    gt = groundTruth.iloc[i]\n",
    "    if gt['wikiURI'] == 0:\n",
    "        y_ground.append(0)\n",
    "        if gt['Company Name'] in prediction:\n",
    "            y_pred.append(1)   # false postive\n",
    "        else:\n",
    "            y_pred.append(0)   # true negative\n",
    "        \n",
    "    else:\n",
    "        y_ground.append(1)\n",
    "        if gt['Company Name'] in prediction:\n",
    "            if gt['wikiURI'] == prediction[gt['Company Name']]: # true positive\n",
    "                y_pred.append(1)\n",
    "            else:\n",
    "                y_pred.append(0)  # false negative \n",
    "                \n",
    "        else: # false negative\n",
    "            y_pred.append(0)    "
   ]
  },
  {
   "cell_type": "code",
   "execution_count": 15,
   "metadata": {},
   "outputs": [
    {
     "name": "stdout",
     "output_type": "stream",
     "text": [
      "Confusion Matrix :\n",
      "[[74  0]\n",
      " [10 16]]\n",
      "Accuracy Score : 0.9\n",
      "Report : \n",
      "              precision    recall  f1-score   support\n",
      "\n",
      "           0       0.88      1.00      0.94        74\n",
      "           1       1.00      0.62      0.76        26\n",
      "\n",
      "   micro avg       0.90      0.90      0.90       100\n",
      "   macro avg       0.94      0.81      0.85       100\n",
      "weighted avg       0.91      0.90      0.89       100\n",
      "\n"
     ]
    }
   ],
   "source": [
    "from sklearn.metrics import confusion_matrix \n",
    "from sklearn.metrics import accuracy_score \n",
    "from sklearn.metrics import classification_report \n",
    "\n",
    "cm = confusion_matrix(y_ground, y_pred) \n",
    "  \n",
    "print('Confusion Matrix :')\n",
    "print(cm) \n",
    "print('Accuracy Score :',accuracy_score(y_ground, y_pred))\n",
    "print('Report : ')\n",
    "print(classification_report(y_ground, y_pred))"
   ]
  },
  {
   "cell_type": "code",
   "execution_count": null,
   "metadata": {},
   "outputs": [],
   "source": []
  }
 ],
 "metadata": {
  "kernelspec": {
   "display_name": "Python 3",
   "language": "python",
   "name": "python3"
  },
  "language_info": {
   "codemirror_mode": {
    "name": "ipython",
    "version": 3
   },
   "file_extension": ".py",
   "mimetype": "text/x-python",
   "name": "python",
   "nbconvert_exporter": "python",
   "pygments_lexer": "ipython3",
   "version": "3.7.2"
  }
 },
 "nbformat": 4,
 "nbformat_minor": 2
}
